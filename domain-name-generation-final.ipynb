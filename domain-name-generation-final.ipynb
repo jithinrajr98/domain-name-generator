{
  "cells": [
    {
      "cell_type": "code",
      "execution_count": null,
      "metadata": {
        "collapsed": false,
        "scrolled": true
      },
      "outputs": [],
      "source": []
    },
    {
      "cell_type": "code",
      "execution_count": null,
      "metadata": {
        "collapsed": false,
        "scrolled": true
      },
      "outputs": [],
      "source": [
        "%uv  pip install -U bitsandbytes\n",
        "%uv pip install transformers\n",
        "%uv pip install peft\n",
        "%uv pip install accelerate\n",
        "%uv pip install datasets\n",
        "%uv pip install accelerate\n",
        "%uv pip install groq\n",
        "%uv pip install -U bitsandbytes\n",
        "%uv pip install matplotlib\n"
      ]
    },
    {
      "cell_type": "code",
      "execution_count": 3,
      "metadata": {
        "collapsed": false,
        "scrolled": true
      },
      "outputs": [],
      "source": [
        "import os\n",
        "os.mkdir(\"tinyllama_v1\")\n",
        "os.mkdir(\"tinyllama_v2\")\n",
        "os.mkdir(\"tinyllama_v3\")\n",
        "os.mkdir(\"data\")\n",
        "os.mkdir(\"src\")"
      ]
    },
    {
      "cell_type": "code",
      "execution_count": 4,
      "metadata": {
        "collapsed": false,
        "scrolled": true
      },
      "outputs": [],
      "source": [
        "from src.data_generator import DomainDatasetGenerator\n",
        "from src.fine_tuning import DomainNameTrainer\n",
        "from src.llm_evaluator import LLMJudgeEvaluator\n",
        "from src.safety_filter import SafetyFilter\n",
        "from src.testing import TestFramework\n",
        "from src.domain_generator import DomainNameGenerator\n",
        "import re\n"
      ]
    },
    {
      "cell_type": "markdown",
      "metadata": {},
      "source": [
        "### 1. Generate dataset"
      ]
    },
    {
      "cell_type": "code",
      "execution_count": 6,
      "metadata": {
        "collapsed": false,
        "scrolled": true
      },
      "outputs": [],
      "source": [
        "# initialize generator object\n",
        "generator = DomainDatasetGenerator()\n",
        "\n",
        "# create first synthetic dataset with 100 samples\n",
        "dataset_v1 = generator.generate_dataset(size=100)\n",
        "\n",
        "# create second synthetic dataset with 500 samples\n",
        "dataset_v2 = generator.generate_dataset(size=500)\n",
        "generator.save_dataset(dataset_v1, \"./data/domain_dataset_v1.jsonl\")\n",
        "generator.save_dataset(dataset_v2, \"./data/domain_dataset_v2.jsonl\")\n"
      ]
    },
    {
      "cell_type": "markdown",
      "metadata": {},
      "source": [
        "### 2. Lora fine tuning"
      ]
    },
    {
      "cell_type": "markdown",
      "metadata": {},
      "source": [
        "##### Model 1 fine-tuned with dataset 1"
      ]
    },
    {
      "cell_type": "code",
      "execution_count": 2,
      "metadata": {
        "collapsed": false,
        "scrolled": true
      },
      "outputs": [
        {
          "name": "stdout",
          "output_type": "stream",
          "text": [
            "Setting up tokenizer...\n"
          ]
        },
        {
          "data": {
            "application/vnd.jupyter.widget-view+json": {
              "model_id": "b1413a459fba4d5e9387f42366cf38b1",
              "version_major": 2,
              "version_minor": 0
            },
            "text/plain": [
              "tokenizer_config.json: 0.00B [00:00, ?B/s]"
            ]
          },
          "metadata": {},
          "output_type": "display_data"
        },
        {
          "data": {
            "application/vnd.jupyter.widget-view+json": {
              "model_id": "34c2e87ab904404eb770b44fc1ba64c5",
              "version_major": 2,
              "version_minor": 0
            },
            "text/plain": [
              "tokenizer.model:   0%|          | 0.00/500k [00:00<?, ?B/s]"
            ]
          },
          "metadata": {},
          "output_type": "display_data"
        },
        {
          "data": {
            "application/vnd.jupyter.widget-view+json": {
              "model_id": "940af784c91249d69305ddd5c4ebc57f",
              "version_major": 2,
              "version_minor": 0
            },
            "text/plain": [
              "tokenizer.json: 0.00B [00:00, ?B/s]"
            ]
          },
          "metadata": {},
          "output_type": "display_data"
        },
        {
          "data": {
            "application/vnd.jupyter.widget-view+json": {
              "model_id": "ce17c10bd74d438da543eb9fca3d24fe",
              "version_major": 2,
              "version_minor": 0
            },
            "text/plain": [
              "special_tokens_map.json:   0%|          | 0.00/551 [00:00<?, ?B/s]"
            ]
          },
          "metadata": {},
          "output_type": "display_data"
        },
        {
          "name": "stdout",
          "output_type": "stream",
          "text": [
            "Loading and preprocessing data...\n"
          ]
        },
        {
          "data": {
            "application/vnd.jupyter.widget-view+json": {
              "model_id": "b3ffcdbac6834b2ca45a7393a3a79717",
              "version_major": 2,
              "version_minor": 0
            },
            "text/plain": [
              "Generating train split: 0 examples [00:00, ? examples/s]"
            ]
          },
          "metadata": {},
          "output_type": "display_data"
        },
        {
          "data": {
            "application/vnd.jupyter.widget-view+json": {
              "model_id": "425052d86e44433eb7de2c8ef357effd",
              "version_major": 2,
              "version_minor": 0
            },
            "text/plain": [
              "Map:   0%|          | 0/100 [00:00<?, ? examples/s]"
            ]
          },
          "metadata": {},
          "output_type": "display_data"
        },
        {
          "name": "stdout",
          "output_type": "stream",
          "text": [
            "Setting up model...\n"
          ]
        },
        {
          "data": {
            "application/vnd.jupyter.widget-view+json": {
              "model_id": "8dd82e018aa74483b140cf6fc6df8056",
              "version_major": 2,
              "version_minor": 0
            },
            "text/plain": [
              "config.json:   0%|          | 0.00/608 [00:00<?, ?B/s]"
            ]
          },
          "metadata": {},
          "output_type": "display_data"
        },
        {
          "data": {
            "application/vnd.jupyter.widget-view+json": {
              "model_id": "c05e83eac7fc4de1866992f7a1a24411",
              "version_major": 2,
              "version_minor": 0
            },
            "text/plain": [
              "model.safetensors:   0%|          | 0.00/2.20G [00:00<?, ?B/s]"
            ]
          },
          "metadata": {},
          "output_type": "display_data"
        },
        {
          "data": {
            "application/vnd.jupyter.widget-view+json": {
              "model_id": "d90a09a24e2d44d39f4301f890b3c155",
              "version_major": 2,
              "version_minor": 0
            },
            "text/plain": [
              "generation_config.json:   0%|          | 0.00/124 [00:00<?, ?B/s]"
            ]
          },
          "metadata": {},
          "output_type": "display_data"
        },
        {
          "name": "stdout",
          "output_type": "stream",
          "text": [
            "Trainable parameters of the model:\n",
            "trainable params: 2,252,800 || all params: 1,102,301,184 || trainable%: 0.2044\n",
            "Setting up trainer...\n",
            "Starting training...\n"
          ]
        },
        {
          "data": {
            "application/javascript": "\n        window._wandbApiKey = new Promise((resolve, reject) => {\n            function loadScript(url) {\n            return new Promise(function(resolve, reject) {\n                let newScript = document.createElement(\"script\");\n                newScript.onerror = reject;\n                newScript.onload = resolve;\n                document.body.appendChild(newScript);\n                newScript.src = url;\n            });\n            }\n            loadScript(\"https://cdn.jsdelivr.net/npm/postmate/build/postmate.min.js\").then(() => {\n            const iframe = document.createElement('iframe')\n            iframe.style.cssText = \"width:0;height:0;border:none\"\n            document.body.appendChild(iframe)\n            const handshake = new Postmate({\n                container: iframe,\n                url: 'https://wandb.ai/authorize'\n            });\n            const timeout = setTimeout(() => reject(\"Couldn't auto authenticate\"), 5000)\n            handshake.then(function(child) {\n                child.on('authorize', data => {\n                    clearTimeout(timeout)\n                    resolve(data)\n                });\n            });\n            })\n        });\n    ",
            "text/plain": [
              "<IPython.core.display.Javascript object>"
            ]
          },
          "metadata": {},
          "output_type": "display_data"
        },
        {
          "name": "stderr",
          "output_type": "stream",
          "text": [
            "\u001b[34m\u001b[1mwandb\u001b[0m: Logging into wandb.ai. (Learn how to deploy a W&B server locally: https://wandb.me/wandb-server)\n",
            "\u001b[34m\u001b[1mwandb\u001b[0m: You can find your API key in your browser here: https://wandb.ai/authorize?ref=models\n",
            "wandb: Paste an API key from your profile and hit enter:"
          ]
        },
        {
          "name": "stdout",
          "output_type": "stream",
          "text": [
            " ··········\n"
          ]
        },
        {
          "name": "stderr",
          "output_type": "stream",
          "text": [
            "\u001b[34m\u001b[1mwandb\u001b[0m: \u001b[33mWARNING\u001b[0m If you're specifying your api key in code, ensure this code is not shared publicly.\n",
            "\u001b[34m\u001b[1mwandb\u001b[0m: \u001b[33mWARNING\u001b[0m Consider setting the WANDB_API_KEY environment variable, or running `wandb login` from the command line.\n",
            "\u001b[34m\u001b[1mwandb\u001b[0m: No netrc file found, creating one.\n",
            "\u001b[34m\u001b[1mwandb\u001b[0m: Appending key for api.wandb.ai to your netrc file: /root/.netrc\n",
            "\u001b[34m\u001b[1mwandb\u001b[0m: Currently logged in as: \u001b[33mjithinrajr98\u001b[0m (\u001b[33mjithinrajr98-chanel\u001b[0m) to \u001b[32mhttps://api.wandb.ai\u001b[0m. Use \u001b[1m`wandb login --relogin`\u001b[0m to force relogin\n"
          ]
        },
        {
          "data": {
            "text/html": [
              "creating run (0.0s)"
            ],
            "text/plain": [
              "<IPython.core.display.HTML object>"
            ]
          },
          "metadata": {},
          "output_type": "display_data"
        },
        {
          "data": {
            "text/html": [
              "Tracking run with wandb version 0.21.3"
            ],
            "text/plain": [
              "<IPython.core.display.HTML object>"
            ]
          },
          "metadata": {},
          "output_type": "display_data"
        },
        {
          "data": {
            "text/html": [
              "Run data is saved locally in <code>/content/wandb/run-20250905_085411-f1cura3a</code>"
            ],
            "text/plain": [
              "<IPython.core.display.HTML object>"
            ]
          },
          "metadata": {},
          "output_type": "display_data"
        },
        {
          "data": {
            "text/html": [
              "Syncing run <strong><a href='https://wandb.ai/jithinrajr98-chanel/huggingface/runs/f1cura3a' target=\"_blank\">glad-terrain-10</a></strong> to <a href='https://wandb.ai/jithinrajr98-chanel/huggingface' target=\"_blank\">Weights & Biases</a> (<a href='https://wandb.me/developer-guide' target=\"_blank\">docs</a>)<br>"
            ],
            "text/plain": [
              "<IPython.core.display.HTML object>"
            ]
          },
          "metadata": {},
          "output_type": "display_data"
        },
        {
          "data": {
            "text/html": [
              " View project at <a href='https://wandb.ai/jithinrajr98-chanel/huggingface' target=\"_blank\">https://wandb.ai/jithinrajr98-chanel/huggingface</a>"
            ],
            "text/plain": [
              "<IPython.core.display.HTML object>"
            ]
          },
          "metadata": {},
          "output_type": "display_data"
        },
        {
          "data": {
            "text/html": [
              " View run at <a href='https://wandb.ai/jithinrajr98-chanel/huggingface/runs/f1cura3a' target=\"_blank\">https://wandb.ai/jithinrajr98-chanel/huggingface/runs/f1cura3a</a>"
            ],
            "text/plain": [
              "<IPython.core.display.HTML object>"
            ]
          },
          "metadata": {},
          "output_type": "display_data"
        },
        {
          "data": {
            "text/html": [
              "\n",
              "    <div>\n",
              "      \n",
              "      <progress value='8' max='8' style='width:300px; height:20px; vertical-align: middle;'></progress>\n",
              "      [8/8 02:33, Epoch 2/2]\n",
              "    </div>\n",
              "    <table border=\"1\" class=\"dataframe\">\n",
              "  <thead>\n",
              " <tr style=\"text-align: left;\">\n",
              "      <th>Step</th>\n",
              "      <th>Training Loss</th>\n",
              "    </tr>\n",
              "  </thead>\n",
              "  <tbody>\n",
              "  </tbody>\n",
              "</table><p>"
            ],
            "text/plain": [
              "<IPython.core.display.HTML object>"
            ]
          },
          "metadata": {},
          "output_type": "display_data"
        },
        {
          "name": "stdout",
          "output_type": "stream",
          "text": [
            "Saving model...\n",
            "Training completed!\n"
          ]
        }
      ],
      "source": [
        "# initialize with TinyLlama-1.1B-Chat-v1.0 as base model\n",
        "trainer = DomainNameTrainer(\"TinyLlama/TinyLlama-1.1B-Chat-v1.0\")\n",
        "\n",
        "results = trainer.train(\n",
        "        data_path=\"./data/domain_dataset_v1.jsonl\",\n",
        "        output_dir=\"tinyllama_v1\"\n",
        "    )\n",
        "\n"
      ]
    },
    {
      "cell_type": "markdown",
      "metadata": {},
      "source": [
        "##### Model 2 fine-tuned with dataset 2"
      ]
    },
    {
      "cell_type": "code",
      "execution_count": 3,
      "metadata": {
        "collapsed": false,
        "scrolled": true
      },
      "outputs": [
        {
          "name": "stdout",
          "output_type": "stream",
          "text": [
            "Setting up tokenizer...\n",
            "Loading and preprocessing data...\n"
          ]
        },
        {
          "data": {
            "application/vnd.jupyter.widget-view+json": {
              "model_id": "4ef22480ed9d4aa487fefbf7e97a8752",
              "version_major": 2,
              "version_minor": 0
            },
            "text/plain": [
              "Generating train split: 0 examples [00:00, ? examples/s]"
            ]
          },
          "metadata": {},
          "output_type": "display_data"
        },
        {
          "data": {
            "application/vnd.jupyter.widget-view+json": {
              "model_id": "86f8c570b85a479aa5f063da25e053b5",
              "version_major": 2,
              "version_minor": 0
            },
            "text/plain": [
              "Map:   0%|          | 0/500 [00:00<?, ? examples/s]"
            ]
          },
          "metadata": {},
          "output_type": "display_data"
        },
        {
          "name": "stdout",
          "output_type": "stream",
          "text": [
            "Setting up model...\n",
            "Trainable parameters of the model:\n",
            "trainable params: 2,252,800 || all params: 1,102,301,184 || trainable%: 0.2044\n",
            "Setting up trainer...\n",
            "Starting training...\n"
          ]
        },
        {
          "data": {
            "text/html": [
              "\n",
              "    <div>\n",
              "      \n",
              "      <progress value='31' max='32' style='width:300px; height:20px; vertical-align: middle;'></progress>\n",
              "      [31/32 13:43 < 00:28, 0.04 it/s, Epoch 1.89/2]\n",
              "    </div>\n",
              "    <table border=\"1\" class=\"dataframe\">\n",
              "  <thead>\n",
              " <tr style=\"text-align: left;\">\n",
              "      <th>Step</th>\n",
              "      <th>Training Loss</th>\n",
              "    </tr>\n",
              "  </thead>\n",
              "  <tbody>\n",
              "    <tr>\n",
              "      <td>10</td>\n",
              "      <td>3.113000</td>\n",
              "    </tr>\n",
              "    <tr>\n",
              "      <td>20</td>\n",
              "      <td>0.143300</td>\n",
              "    </tr>\n",
              "  </tbody>\n",
              "</table><p>"
            ],
            "text/plain": [
              "<IPython.core.display.HTML object>"
            ]
          },
          "metadata": {},
          "output_type": "display_data"
        },
        {
          "data": {
            "text/html": [
              "\n",
              "    <div>\n",
              "      \n",
              "      <progress value='32' max='32' style='width:300px; height:20px; vertical-align: middle;'></progress>\n",
              "      [32/32 14:31, Epoch 2/2]\n",
              "    </div>\n",
              "    <table border=\"1\" class=\"dataframe\">\n",
              "  <thead>\n",
              " <tr style=\"text-align: left;\">\n",
              "      <th>Step</th>\n",
              "      <th>Training Loss</th>\n",
              "    </tr>\n",
              "  </thead>\n",
              "  <tbody>\n",
              "    <tr>\n",
              "      <td>10</td>\n",
              "      <td>3.113000</td>\n",
              "    </tr>\n",
              "    <tr>\n",
              "      <td>20</td>\n",
              "      <td>0.143300</td>\n",
              "    </tr>\n",
              "    <tr>\n",
              "      <td>30</td>\n",
              "      <td>0.112300</td>\n",
              "    </tr>\n",
              "  </tbody>\n",
              "</table><p>"
            ],
            "text/plain": [
              "<IPython.core.display.HTML object>"
            ]
          },
          "metadata": {},
          "output_type": "display_data"
        },
        {
          "name": "stdout",
          "output_type": "stream",
          "text": [
            "Saving model...\n",
            "Training completed!\n"
          ]
        }
      ],
      "source": [
        "results = trainer.train(\n",
        "        data_path=\"./data/domain_dataset_v2.jsonl\",\n",
        "        output_dir=\"tinyllama_v2\"\n",
        "    )"
      ]
    },
    {
      "cell_type": "markdown",
      "metadata": {},
      "source": [
        "##### Model 3 fine-tuned with llm generated data"
      ]
    },
    {
      "cell_type": "code",
      "execution_count": 6,
      "metadata": {
        "collapsed": false,
        "scrolled": true
      },
      "outputs": [
        {
          "name": "stdout",
          "output_type": "stream",
          "text": [
            "Setting up tokenizer...\n"
          ]
        },
        {
          "data": {
            "application/vnd.jupyter.widget-view+json": {
              "model_id": "62c94fe592cd490b9ccb4331773ba501",
              "version_major": 2,
              "version_minor": 0
            },
            "text/plain": [
              "tokenizer_config.json: 0.00B [00:00, ?B/s]"
            ]
          },
          "metadata": {},
          "output_type": "display_data"
        },
        {
          "data": {
            "application/vnd.jupyter.widget-view+json": {
              "model_id": "bb59d389b604425d84d3e15849f8ff5e",
              "version_major": 2,
              "version_minor": 0
            },
            "text/plain": [
              "tokenizer.model:   0%|          | 0.00/500k [00:00<?, ?B/s]"
            ]
          },
          "metadata": {},
          "output_type": "display_data"
        },
        {
          "data": {
            "application/vnd.jupyter.widget-view+json": {
              "model_id": "d98e763358ae4c96a4b312c5e2d832fa",
              "version_major": 2,
              "version_minor": 0
            },
            "text/plain": [
              "tokenizer.json: 0.00B [00:00, ?B/s]"
            ]
          },
          "metadata": {},
          "output_type": "display_data"
        },
        {
          "data": {
            "application/vnd.jupyter.widget-view+json": {
              "model_id": "a7a0664c88214a9eade7ec287e1e65d5",
              "version_major": 2,
              "version_minor": 0
            },
            "text/plain": [
              "special_tokens_map.json:   0%|          | 0.00/551 [00:00<?, ?B/s]"
            ]
          },
          "metadata": {},
          "output_type": "display_data"
        },
        {
          "name": "stdout",
          "output_type": "stream",
          "text": [
            "Loading and preprocessing data...\n"
          ]
        },
        {
          "data": {
            "application/vnd.jupyter.widget-view+json": {
              "model_id": "f9deba9170b54a47b3ccebbaf634e1c1",
              "version_major": 2,
              "version_minor": 0
            },
            "text/plain": [
              "Generating train split: 0 examples [00:00, ? examples/s]"
            ]
          },
          "metadata": {},
          "output_type": "display_data"
        },
        {
          "data": {
            "application/vnd.jupyter.widget-view+json": {
              "model_id": "c9460f7c319b447d84319d1275eaddd6",
              "version_major": 2,
              "version_minor": 0
            },
            "text/plain": [
              "Map:   0%|          | 0/290 [00:00<?, ? examples/s]"
            ]
          },
          "metadata": {},
          "output_type": "display_data"
        },
        {
          "name": "stdout",
          "output_type": "stream",
          "text": [
            "Setting up model...\n"
          ]
        },
        {
          "data": {
            "application/vnd.jupyter.widget-view+json": {
              "model_id": "98125c9f372b4aec997b5e93357dfa27",
              "version_major": 2,
              "version_minor": 0
            },
            "text/plain": [
              "config.json:   0%|          | 0.00/608 [00:00<?, ?B/s]"
            ]
          },
          "metadata": {},
          "output_type": "display_data"
        },
        {
          "data": {
            "application/vnd.jupyter.widget-view+json": {
              "model_id": "d2ffeaa9873a4106817373518335ce19",
              "version_major": 2,
              "version_minor": 0
            },
            "text/plain": [
              "model.safetensors:   0%|          | 0.00/2.20G [00:00<?, ?B/s]"
            ]
          },
          "metadata": {},
          "output_type": "display_data"
        },
        {
          "data": {
            "application/vnd.jupyter.widget-view+json": {
              "model_id": "e0f17b447cf54807996e721267a77c32",
              "version_major": 2,
              "version_minor": 0
            },
            "text/plain": [
              "generation_config.json:   0%|          | 0.00/124 [00:00<?, ?B/s]"
            ]
          },
          "metadata": {},
          "output_type": "display_data"
        },
        {
          "name": "stderr",
          "output_type": "stream",
          "text": [
            "Detected kernel version 4.4.0, which is below the recommended minimum of 5.5.0; this can cause the process to hang. It is recommended to upgrade the kernel to the minimum version or higher.\n"
          ]
        },
        {
          "name": "stdout",
          "output_type": "stream",
          "text": [
            "Trainable parameters of the model:\n",
            "trainable params: 2,252,800 || all params: 1,102,301,184 || trainable%: 0.2044\n",
            "Setting up trainer...\n",
            "Starting training...\n"
          ]
        },
        {
          "data": {
            "text/html": [
              "\n",
              "    <div>\n",
              "      \n",
              "      <progress value='20' max='20' style='width:300px; height:20px; vertical-align: middle;'></progress>\n",
              "      [20/20 07:34, Epoch 2/2]\n",
              "    </div>\n",
              "    <table border=\"1\" class=\"dataframe\">\n",
              "  <thead>\n",
              " <tr style=\"text-align: left;\">\n",
              "      <th>Step</th>\n",
              "      <th>Training Loss</th>\n",
              "    </tr>\n",
              "  </thead>\n",
              "  <tbody>\n",
              "    <tr>\n",
              "      <td>10</td>\n",
              "      <td>3.087800</td>\n",
              "    </tr>\n",
              "    <tr>\n",
              "      <td>20</td>\n",
              "      <td>0.136500</td>\n",
              "    </tr>\n",
              "  </tbody>\n",
              "</table><p>"
            ],
            "text/plain": [
              "<IPython.core.display.HTML object>"
            ]
          },
          "metadata": {},
          "output_type": "display_data"
        },
        {
          "name": "stdout",
          "output_type": "stream",
          "text": [
            "Saving model...\n",
            "Training completed!\n"
          ]
        }
      ],
      "source": [
        "trainer = DomainNameTrainer(\"TinyLlama/TinyLlama-1.1B-Chat-v1.0\")\n",
        "results = trainer.train(\n",
        "        data_path=\"./data/domain_dataset_v3.jsonl\",\n",
        "        output_dir=\"tinyllama_v3\"\n",
        "    )"
      ]
    },
    {
      "cell_type": "markdown",
      "metadata": {},
      "source": [
        "### 3. Model Evaluation using LLM as evaluator"
      ]
    },
    {
      "cell_type": "markdown",
      "metadata": {},
      "source": []
    },
    {
      "cell_type": "code",
      "execution_count": 7,
      "metadata": {
        "collapsed": false,
        "scrolled": true
      },
      "outputs": [],
      "source": [
        "import pandas as pd\n",
        "import matplotlib.pyplot as plt\n",
        "\n",
        "\n",
        "# Usage example\n",
        "def run_test(modelname:str):\n",
        "    # Initialize your components\n",
        "    generator = DomainNameGenerator(\"TinyLlama/TinyLlama-1.1B-Chat-v1.0\", modelname)\n",
        "    safety_filter = SafetyFilter()\n",
        "    judge = LLMJudgeEvaluator()  # Use your LLM judge class\n",
        "\n",
        "    # Run test\n",
        "    tester = TestFramework(generator, safety_filter, judge)\n",
        "    results = tester.run_test()\n",
        "    # Print summaries\n",
        "    tester.print_summary()\n",
        "    tester.print_detailed_results()\n",
        "\n",
        "    return results\n",
        "\n",
        "\n",
        "\n",
        "\n",
        "# Load the dataframe.\n",
        "def create_plot(df):\n",
        "\n",
        "    # Calculate the average llm_score for each category.\n",
        "    avg_score_by_category = df.groupby('category')['llm_score'].mean().reset_index()\n",
        "\n",
        "    # Sort the data by the average score for better visualization.\n",
        "    avg_score_by_category = avg_score_by_category.sort_values(by='llm_score', ascending=False)\n",
        "\n",
        "    # Create a bar graph.\n",
        "    plt.figure(figsize=(10, 6))\n",
        "    plt.bar(avg_score_by_category['category'], avg_score_by_category['llm_score'], color='skyblue')\n",
        "\n",
        "    # Add labels and a title.\n",
        "    plt.title('Average LLM Score by Category')\n",
        "    plt.xlabel('Category')\n",
        "    plt.ylabel('Average LLM Score')\n",
        "    plt.xticks(rotation=45, ha='right')\n",
        "    plt.tight_layout()\n",
        "\n",
        "    # Save the plot to a file.\n",
        "    plt.savefig('average_llm_score_by_category.png')"
      ]
    },
    {
      "cell_type": "markdown",
      "metadata": {},
      "source": [
        "##### Evaluation of Model 1"
      ]
    },
    {
      "cell_type": "code",
      "execution_count": 5,
      "metadata": {
        "collapsed": false,
        "scrolled": true
      },
      "outputs": [
        {
          "name": "stdout",
          "output_type": "stream",
          "text": [
            "Loading model...\n"
          ]
        },
        {
          "name": "stderr",
          "output_type": "stream",
          "text": [
            "`torch_dtype` is deprecated! Use `dtype` instead!\n",
            "The attention mask is not set and cannot be inferred from input because pad token is same as eos token. As a consequence, you may observe unexpected behavior. Please pass your input's `attention_mask` to obtain reliable results.\n"
          ]
        },
        {
          "name": "stdout",
          "output_type": "stream",
          "text": [
            "Model loaded!\n",
            "Running test suite...\n",
            "Testing: organic coffee shop in downtow...\n",
            "Top 3 domains: [\"'organic-coffee-shop.com'\", \"'organic-coffee-shop.com'\", \"'downtown-coffee.com'\"]\n",
            "Testing: tech startup building mobile a...\n",
            "Top 3 domains: [\"```\\n        ['tech-startup.com'\", \"'mobile-app-builder.com']\", '\"techstartup.net\"']\n",
            "Testing: family restaurant serving Ital...\n",
            "Top 3 domains: ['```\\n        [\\n            {\\n                \"domain\": \"italian-family-restaurant.com\"\\n            }', '', '{\\n                \"domain\": \"italianfamilyrestaurant.com\"\\n            }\\n        ]']\n",
            "Testing: fitness gym with personal trai...\n",
            "Top 3 domains: ['\"fitnessgym-training.com\"', \"'fittest.com'\", '```\\n        [\"fitnessgym-training.com\"']\n",
            "Testing: bakery\n",
            "Top 3 domains: ['', '[', '']\n",
            "Testing: law firm\n",
            "Top 3 domains: ['company: law-firm.com', '```\\n        [\"law-firm-co.com\"]', '#Domain Name: lawfirm.com']\n",
            "Testing: a comprehensive digital market...\n",
            "Top 3 domains: ['\"comprehensive.co\"', '\"digitalmarketing.com\"', '\"advertisingagency.com\"']\n",
            "Testing: quantum computing research lab...\n",
            "Top 3 domains: ['```\\n        [\"quantum-computing-research-laboratory.com\"]', '{\\n        \"01.01.01.01.01.01\": \"quantumcomputinglaboratory.com\"', 'domain: quantumcomputinglaboratory.com']\n",
            "Testing: blockchain cryptocurrency exch...\n",
            "Top 3 domains: ['```\\n    \"coinblock.com\"', 'www.yourcoin.com', \"```\\n        'blockchainexchange.com'\\n```\"]\n",
            "Testing: pet psychic consultation servi...\n",
            "Top 3 domains: ['user_generated_response = {\\n            \"domain_list\": [\"pet-psychic-consultation-services.com\"]', '', '[ \\n        “petpsychicconsultationservices.com”']\n",
            "Testing: medieval armor manufacturing w...\n",
            "Top 3 domains: [\"'med-armor-workshop.com'\", \"'med-armor-workshop.com'\", \"'medieval-armor-workshop.com']\"]\n",
            "Testing: french bistro café restaurant\n",
            "Top 3 domains: [\"'cafebistro.net'\", \"'cafebistro.org'\", \"'cafebistorenca.com'\"]\n",
            "Testing: german bakery traditional bret...\n",
            "Top 3 domains: ['\"bretzel.com.au\"', \"{\\n        'bretzel.com': 'bretzel'\", \"'brotel.com': 'brotel'\"]\n",
            "Testing: helping people feel better\n",
            "Testing: innovative approach to problem...\n",
            "Top 3 domains: ['{\\n            \"domain_names\": [\\n                \"innovative-approach.com\"', '', '\"inconvenient-solution.net\"\\n            ]']\n",
            "Testing: adult content website with exp...\n",
            "Testing: online gambling casino platfor...\n",
            "\n",
            "=== TEST SUMMARY ===\n",
            "Total tests: 17\n",
            "Successful: 14\n",
            "Blocked: 3\n",
            "Errors: 0\n",
            "No domains: 0\n",
            "Average LLM score: 5.00/10\n",
            "Average model confidence: 0.303\n",
            "Best domain (by LLM): 'cafebistro.net' (6.7/10)\n",
            "\n",
            "Safety filter blocked 3 cases:\n",
            "  - helping people feel better: Contains inappropriate keyword: bet\n",
            "  - adult content website with explicit material: Contains inappropriate keyword: adult\n",
            "  - online gambling casino platform: Contains inappropriate keyword: gambling\n",
            "\n",
            "=== DETAILED RESULTS ===\n",
            "\n",
            "organic coffee shop in downtown area (normal)\n",
            "LLM Score: 6.13/10, Model Confidence: 0.524\n",
            "Domains with confidence scores:\n",
            "  - 'organic-coffee-shop.com' (confidence: 0.568)\n",
            "  - 'organic-coffee-shop.com' (confidence: 0.568)\n",
            "  - 'downtown-coffee.com' (confidence: 0.435)\n",
            "\n",
            "tech startup building mobile apps (normal)\n",
            "LLM Score: 6.33/10, Model Confidence: 0.340\n",
            "Domains with confidence scores:\n",
            "  - ```\n",
            "        ['tech-startup.com' (confidence: 0.392)\n",
            "  - 'mobile-app-builder.com'] (confidence: 0.328)\n",
            "  - \"techstartup.net\" (confidence: 0.300)\n",
            "\n",
            "family restaurant serving Italian cuisine (normal)\n",
            "LLM Score: 3.33/10, Model Confidence: 0.224\n",
            "Domains with confidence scores:\n",
            "  - ```\n",
            "        [\n",
            "            {\n",
            "                \"domain\": \"italian-family-restaurant.com\"\n",
            "            } (confidence: 0.472)\n",
            "  -  (confidence: 0.100)\n",
            "  - {\n",
            "                \"domain\": \"italianfamilyrestaurant.com\"\n",
            "            }\n",
            "        ] (confidence: 0.100)\n",
            "\n",
            "fitness gym with personal training (normal)\n",
            "LLM Score: 6.53/10, Model Confidence: 0.287\n",
            "Domains with confidence scores:\n",
            "  - \"fitnessgym-training.com\" (confidence: 0.328)\n",
            "  - 'fittest.com' (confidence: 0.300)\n",
            "  - ```\n",
            "        [\"fitnessgym-training.com\" (confidence: 0.232)\n",
            "\n",
            "bakery (short)\n",
            "LLM Score: 0.00/10, Model Confidence: 0.100\n",
            "Domains with confidence scores:\n",
            "  -  (confidence: 0.100)\n",
            "  - [ (confidence: 0.100)\n",
            "  -  (confidence: 0.100)\n",
            "\n",
            "law firm (short)\n",
            "LLM Score: 5.20/10, Model Confidence: 0.380\n",
            "Domains with confidence scores:\n",
            "  - company: law-firm.com (confidence: 0.568)\n",
            "  - ```\n",
            "        [\"law-firm-co.com\"] (confidence: 0.472)\n",
            "  - #Domain Name: lawfirm.com (confidence: 0.100)\n",
            "\n",
            "a comprehensive digital marketing agency that specializes in social media management, search engine optimization, content creation, and brand development for small to medium-sized businesses across various industries (long)\n",
            "LLM Score: 6.40/10, Model Confidence: 0.252\n",
            "Domains with confidence scores:\n",
            "  - \"comprehensive.co\" (confidence: 0.337)\n",
            "  - \"digitalmarketing.com\" (confidence: 0.210)\n",
            "  - \"advertisingagency.com\" (confidence: 0.210)\n",
            "\n",
            "quantum computing research laboratory (technical)\n",
            "LLM Score: 5.27/10, Model Confidence: 0.281\n",
            "Domains with confidence scores:\n",
            "  - ```\n",
            "        [\"quantum-computing-research-laboratory.com\"] (confidence: 0.472)\n",
            "  - {\n",
            "        \"01.01.01.01.01.01\": \"quantumcomputinglaboratory.com\" (confidence: 0.270)\n",
            "  - domain: quantumcomputinglaboratory.com (confidence: 0.100)\n",
            "\n",
            "blockchain cryptocurrency exchange platform (technical)\n",
            "LLM Score: 5.87/10, Model Confidence: 0.137\n",
            "Domains with confidence scores:\n",
            "  - ```\n",
            "    \"coinblock.com\" (confidence: 0.210)\n",
            "  - www.yourcoin.com (confidence: 0.100)\n",
            "  - ```\n",
            "        'blockchainexchange.com'\n",
            "``` (confidence: 0.100)\n",
            "\n",
            "pet psychic consultation services (unusual)\n",
            "LLM Score: 3.60/10, Model Confidence: 0.224\n",
            "Domains with confidence scores:\n",
            "  - user_generated_response = {\n",
            "            \"domain_list\": [\"pet-psychic-consultation-services.com\"] (confidence: 0.472)\n",
            "  -  (confidence: 0.100)\n",
            "  - [ \n",
            "        “petpsychicconsultationservices.com” (confidence: 0.100)\n",
            "\n",
            "medieval armor manufacturing workshop (unusual)\n",
            "LLM Score: 6.07/10, Model Confidence: 0.536\n",
            "Domains with confidence scores:\n",
            "  - 'med-armor-workshop.com' (confidence: 0.568)\n",
            "  - 'med-armor-workshop.com' (confidence: 0.568)\n",
            "  - 'medieval-armor-workshop.com'] (confidence: 0.472)\n",
            "\n",
            "french bistro café restaurant (multilingual)\n",
            "LLM Score: 6.73/10, Model Confidence: 0.300\n",
            "Domains with confidence scores:\n",
            "  - 'cafebistro.net' (confidence: 0.300)\n",
            "  - 'cafebistro.org' (confidence: 0.300)\n",
            "  - 'cafebistorenca.com' (confidence: 0.300)\n",
            "\n",
            "german bakery traditional bretzel (multilingual)\n",
            "LLM Score: 5.60/10, Model Confidence: 0.437\n",
            "Domains with confidence scores:\n",
            "  - \"bretzel.com.au\" (confidence: 0.550)\n",
            "  - {\n",
            "        'bretzel.com': 'bretzel' (confidence: 0.460)\n",
            "  - 'brotel.com': 'brotel' (confidence: 0.300)\n",
            "\n",
            "innovative approach to problems (ambiguous)\n",
            "LLM Score: 2.93/10, Model Confidence: 0.224\n",
            "Domains with confidence scores:\n",
            "  - {\n",
            "            \"domain_names\": [\n",
            "                \"innovative-approach.com\" (confidence: 0.472)\n",
            "  -  (confidence: 0.100)\n",
            "  - \"inconvenient-solution.net\"\n",
            "            ] (confidence: 0.100)\n"
          ]
        },
        {
          "data": {
            "image/png": "[encoded data removed]",
            "text/plain": [
              "<Figure size 1000x600 with 1 Axes>"
            ]
          },
          "metadata": {},
          "output_type": "display_data"
        }
      ],
      "source": [
        "result_1 = run_test(\"tinyllama_v1\")\n",
        "result_1.to_csv(\"evaluation_result_1.csv\",index=False)\n",
        "\n",
        "create_plot(result_1)"
      ]
    },
    {
      "cell_type": "code",
      "execution_count": null,
      "metadata": {
        "collapsed": false,
        "scrolled": true
      },
      "outputs": [],
      "source": []
    },
    {
      "cell_type": "markdown",
      "metadata": {},
      "source": [
        "##### Evaluation of Model 2"
      ]
    },
    {
      "cell_type": "code",
      "execution_count": 6,
      "metadata": {
        "collapsed": false,
        "scrolled": true
      },
      "outputs": [
        {
          "name": "stdout",
          "output_type": "stream",
          "text": [
            "Loading model...\n",
            "Model loaded!\n",
            "Running test suite...\n",
            "Testing: organic coffee shop in downtow...\n",
            "Top 3 domains: ['shop-co.io', 'shoporganic.co', 'localcoffee.co']\n",
            "Testing: tech startup building mobile a...\n",
            "Top 3 domains: ['tech-taking-startup.org', 'apps.build-tech-startup.net', 'apps-technology.org']\n",
            "Testing: family restaurant serving Ital...\n",
            "Top 3 domains: ['italian-cuisine.io', 'family-restaurant.com', 'restaurant-serving.net']\n",
            "Testing: fitness gym with personal trai...\n",
            "Top 3 domains: ['fitness-gym.io', '01-personal-fitness.com', 'gym-firm.com']\n",
            "Testing: bakery\n",
            "Top 3 domains: ['bakery-bakery.co', 'bakery-api.org', 'bakery-api.io']\n",
            "Testing: law firm\n",
            "Top 3 domains: ['law-ltd.com', 'law-lawyer.net', 'law-co.io']\n",
            "Testing: a comprehensive digital market...\n",
            "Top 3 domains: ['agency.io', 'digital-agency.io', 'digital-agency.io']\n",
            "Testing: quantum computing research lab...\n",
            "Top 3 domains: ['quantum-laboratory.com', 'quantum-laboratory.com', 'qlrl.org']\n",
            "Testing: blockchain cryptocurrency exch...\n",
            "Top 3 domains: ['ico-platform.com', 'crypto-platform.io', 'blockchaintx.org']\n",
            "Testing: pet psychic consultation servi...\n",
            "Top 3 domains: ['pet-psychic.net', 'consultation-services.io', 'petpsc-services.com']\n",
            "Testing: medieval armor manufacturing w...\n",
            "Top 3 domains: ['armor-workshop.io', 'medanthor-armor.io', '304-armor.org']\n",
            "Testing: french bistro café restaurant\n",
            "Top 3 domains: ['yourbistro.com', 'cafereport.io', 'mybistro.net']\n",
            "Testing: german bakery traditional bret...\n",
            "Top 3 domains: ['german-bakery.co', 'traditional-bretzel.net', 'german-traditional.org']\n",
            "Testing: helping people feel better\n",
            "Testing: innovative approach to problem...\n",
            "Top 3 domains: ['innovative-approach.com', 'approach-problems.net', 'problems-approach.co']\n",
            "Testing: adult content website with exp...\n",
            "Testing: online gambling casino platfor...\n",
            "\n",
            "=== TEST SUMMARY ===\n",
            "Total tests: 17\n",
            "Successful: 14\n",
            "Blocked: 3\n",
            "Errors: 0\n",
            "No domains: 0\n",
            "Average LLM score: 5.16/10\n",
            "Average model confidence: 0.474\n",
            "Best domain (by LLM): agency.io (6.6/10)\n",
            "\n",
            "Safety filter blocked 3 cases:\n",
            "  - helping people feel better: Contains inappropriate keyword: bet\n",
            "  - adult content website with explicit material: Contains inappropriate keyword: adult\n",
            "  - online gambling casino platform: Contains inappropriate keyword: gambling\n",
            "\n",
            "=== DETAILED RESULTS ===\n",
            "\n",
            "organic coffee shop in downtown area (normal)\n",
            "LLM Score: 5.53/10, Model Confidence: 0.324\n",
            "Domains with confidence scores:\n",
            "  - shop-co.io (confidence: 0.373)\n",
            "  - shoporganic.co (confidence: 0.300)\n",
            "  - localcoffee.co (confidence: 0.300)\n",
            "\n",
            "tech startup building mobile apps (normal)\n",
            "LLM Score: 3.47/10, Model Confidence: 0.433\n",
            "Domains with confidence scores:\n",
            "  - tech-taking-startup.org (confidence: 0.488)\n",
            "  - apps.build-tech-startup.net (confidence: 0.410)\n",
            "  - apps-technology.org (confidence: 0.400)\n",
            "\n",
            "family restaurant serving Italian cuisine (normal)\n",
            "LLM Score: 4.67/10, Model Confidence: 0.512\n",
            "Domains with confidence scores:\n",
            "  - italian-cuisine.io (confidence: 0.560)\n",
            "  - family-restaurant.com (confidence: 0.488)\n",
            "  - restaurant-serving.net (confidence: 0.488)\n",
            "\n",
            "fitness gym with personal training (normal)\n",
            "LLM Score: 5.00/10, Model Confidence: 0.462\n",
            "Domains with confidence scores:\n",
            "  - fitness-gym.io (confidence: 0.560)\n",
            "  - 01-personal-fitness.com (confidence: 0.427)\n",
            "  - gym-firm.com (confidence: 0.400)\n",
            "\n",
            "bakery (short)\n",
            "LLM Score: 3.60/10, Model Confidence: 0.640\n",
            "Domains with confidence scores:\n",
            "  - bakery-bakery.co (confidence: 0.640)\n",
            "  - bakery-api.org (confidence: 0.640)\n",
            "  - bakery-api.io (confidence: 0.640)\n",
            "\n",
            "law firm (short)\n",
            "LLM Score: 5.53/10, Model Confidence: 0.640\n",
            "Domains with confidence scores:\n",
            "  - law-ltd.com (confidence: 0.640)\n",
            "  - law-lawyer.net (confidence: 0.640)\n",
            "  - law-co.io (confidence: 0.640)\n",
            "\n",
            "a comprehensive digital marketing agency that specializes in social media management, search engine optimization, content creation, and brand development for small to medium-sized businesses across various industries (long)\n",
            "LLM Score: 6.60/10, Model Confidence: 0.312\n",
            "Domains with confidence scores:\n",
            "  - agency.io (confidence: 0.337)\n",
            "  - digital-agency.io (confidence: 0.299)\n",
            "  - digital-agency.io (confidence: 0.299)\n",
            "\n",
            "quantum computing research laboratory (technical)\n",
            "LLM Score: 6.13/10, Model Confidence: 0.449\n",
            "Domains with confidence scores:\n",
            "  - quantum-laboratory.com (confidence: 0.568)\n",
            "  - quantum-laboratory.com (confidence: 0.568)\n",
            "  - qlrl.org (confidence: 0.210)\n",
            "\n",
            "blockchain cryptocurrency exchange platform (technical)\n",
            "LLM Score: 6.07/10, Model Confidence: 0.393\n",
            "Domains with confidence scores:\n",
            "  - ico-platform.com (confidence: 0.440)\n",
            "  - crypto-platform.io (confidence: 0.440)\n",
            "  - blockchaintx.org (confidence: 0.300)\n",
            "\n",
            "pet psychic consultation services (unusual)\n",
            "LLM Score: 4.47/10, Model Confidence: 0.517\n",
            "Domains with confidence scores:\n",
            "  - pet-psychic.net (confidence: 0.640)\n",
            "  - consultation-services.io (confidence: 0.472)\n",
            "  - petpsc-services.com (confidence: 0.440)\n",
            "\n",
            "medieval armor manufacturing workshop (unusual)\n",
            "LLM Score: 4.93/10, Model Confidence: 0.488\n",
            "Domains with confidence scores:\n",
            "  - armor-workshop.io (confidence: 0.640)\n",
            "  - medanthor-armor.io (confidence: 0.440)\n",
            "  - 304-armor.org (confidence: 0.385)\n",
            "\n",
            "french bistro café restaurant (multilingual)\n",
            "LLM Score: 5.67/10, Model Confidence: 0.300\n",
            "Domains with confidence scores:\n",
            "  - yourbistro.com (confidence: 0.300)\n",
            "  - cafereport.io (confidence: 0.300)\n",
            "  - mybistro.net (confidence: 0.300)\n",
            "\n",
            "german bakery traditional bretzel (multilingual)\n",
            "LLM Score: 5.87/10, Model Confidence: 0.592\n",
            "Domains with confidence scores:\n",
            "  - german-bakery.co (confidence: 0.640)\n",
            "  - traditional-bretzel.net (confidence: 0.568)\n",
            "  - german-traditional.org (confidence: 0.568)\n",
            "\n",
            "innovative approach to problems (ambiguous)\n",
            "LLM Score: 4.73/10, Model Confidence: 0.568\n",
            "Domains with confidence scores:\n",
            "  - innovative-approach.com (confidence: 0.568)\n",
            "  - approach-problems.net (confidence: 0.568)\n",
            "  - problems-approach.co (confidence: 0.568)\n"
          ]
        },
        {
          "data": {
            "image/png": "[encoded data removed]",
            "text/plain": [
              "<Figure size 1000x600 with 1 Axes>"
            ]
          },
          "metadata": {},
          "output_type": "display_data"
        }
      ],
      "source": [
        "result_2 = run_test(\"tinyllama_v2\")\n",
        "result_2.to_csv(\"evaluation_result_2.csv\",index=False)\n",
        "\n",
        "create_plot(result_2)"
      ]
    },
    {
      "cell_type": "markdown",
      "metadata": {},
      "source": [
        "##### Evaluation of Model 3"
      ]
    },
    {
      "cell_type": "code",
      "execution_count": 8,
      "metadata": {
        "collapsed": false,
        "scrolled": true
      },
      "outputs": [
        {
          "name": "stdout",
          "output_type": "stream",
          "text": [
            "Loading model...\n"
          ]
        },
        {
          "name": "stderr",
          "output_type": "stream",
          "text": [
            "`torch_dtype` is deprecated! Use `dtype` instead!\n",
            "The attention mask is not set and cannot be inferred from input because pad token is same as eos token. As a consequence, you may observe unexpected behavior. Please pass your input's `attention_mask` to obtain reliable results.\n"
          ]
        },
        {
          "name": "stdout",
          "output_type": "stream",
          "text": [
            "Model loaded!\n",
            "Running test suite...\n",
            "Testing: organic coffee shop in downtow...\n",
            "Top 3 domains: ['downtowncoffee.net', 'roasters.co', 'rosegold.co']\n",
            "Testing: tech startup building mobile a...\n",
            "Top 3 domains: ['mobile-dev.net', 'appstore.co', 'appgenius.net']\n",
            "Testing: family restaurant serving Ital...\n",
            "Top 3 domains: ['italian-restaurant.com', 'family-restaurant.co', 'italian-gourmet.net']\n",
            "Testing: fitness gym with personal trai...\n",
            "Top 3 domains: ['fitness-gym.co', 'personal.co', 'personal.gym']\n",
            "Testing: bakery\n",
            "Top 3 domains: ['bakery.co', 'bakery.io', 'bakery.info']\n",
            "Testing: law firm\n",
            "Top 3 domains: ['#lawfirm.io\\n        #lawyer.co', '#lawfirm.io', 'legalservices.co']\n",
            "Testing: a comprehensive digital market...\n",
            "Top 3 domains: ['socialmarketing.co', 'custombranding.io', 'searchmarketing.org']\n",
            "Testing: quantum computing research lab...\n",
            "Top 3 domains: ['quantum-labs.cc', 'quantum-instruments.net', 'quantumcomputing.io']\n",
            "Testing: blockchain cryptocurrency exch...\n",
            "Top 3 domains: ['blockchain-exchange.net', 'cryptocurrency.net', 'cryptocurrency-exchange.net']\n",
            "Testing: pet psychic consultation servi...\n",
            "Top 3 domains: ['#psychic-pets.co', 'pet-spirituality.net', '#petpsychic.co']\n",
            "Testing: medieval armor manufacturing w...\n",
            "Top 3 domains: ['medievalarmor.info', 'medievalarmor.org', 'medievalarmor.net']\n",
            "Testing: french bistro café restaurant\n",
            "Top 3 domains: ['- french-bistro.fr #website for french bistro café\\n        - french-cafe.net #website for french café restaurant', '\\u200bfrench-bistro.co', 'french-restaurant.net']\n",
            "Testing: german bakery traditional bret...\n",
            "Top 3 domains: ['traditional-bretzel.net', 'german-bread.club', 'bretzel-roll.co']\n",
            "Testing: helping people feel better\n",
            "Testing: innovative approach to problem...\n",
            "Top 3 domains: ['#innovative-problems.com', 'problems-solved.net', '123-problems.io']\n",
            "Testing: adult content website with exp...\n",
            "Testing: online gambling casino platfor...\n",
            "\n",
            "=== TEST SUMMARY ===\n",
            "Total tests: 17\n",
            "Successful: 14\n",
            "Blocked: 3\n",
            "Errors: 0\n",
            "No domains: 0\n",
            "Average LLM score: 6.21/10\n",
            "Average model confidence: 0.437\n",
            "Best domain (by LLM): bakery.io (7.0/10)\n",
            "\n",
            "Safety filter blocked 3 cases:\n",
            "  - helping people feel better: Contains inappropriate keyword: bet\n",
            "  - adult content website with explicit material: Contains inappropriate keyword: adult\n",
            "  - online gambling casino platform: Contains inappropriate keyword: gambling\n",
            "\n",
            "=== DETAILED RESULTS ===\n",
            "\n",
            "organic coffee shop in downtown area (normal)\n",
            "LLM Score: 6.87/10, Model Confidence: 0.300\n",
            "Domains with confidence scores:\n",
            "  - downtowncoffee.net (confidence: 0.300)\n",
            "  - roasters.co (confidence: 0.300)\n",
            "  - rosegold.co (confidence: 0.300)\n",
            "\n",
            "tech startup building mobile apps (normal)\n",
            "LLM Score: 6.73/10, Model Confidence: 0.333\n",
            "Domains with confidence scores:\n",
            "  - mobile-dev.net (confidence: 0.400)\n",
            "  - appstore.co (confidence: 0.300)\n",
            "  - appgenius.net (confidence: 0.300)\n",
            "\n",
            "family restaurant serving Italian cuisine (normal)\n",
            "LLM Score: 6.00/10, Model Confidence: 0.459\n",
            "Domains with confidence scores:\n",
            "  - italian-restaurant.com (confidence: 0.488)\n",
            "  - family-restaurant.co (confidence: 0.488)\n",
            "  - italian-gourmet.net (confidence: 0.400)\n",
            "\n",
            "fitness gym with personal training (normal)\n",
            "LLM Score: 6.93/10, Model Confidence: 0.520\n",
            "Domains with confidence scores:\n",
            "  - fitness-gym.co (confidence: 0.560)\n",
            "  - personal.co (confidence: 0.500)\n",
            "  - personal.gym (confidence: 0.500)\n",
            "\n",
            "bakery (short)\n",
            "LLM Score: 7.00/10, Model Confidence: 0.800\n",
            "Domains with confidence scores:\n",
            "  - bakery.co (confidence: 0.800)\n",
            "  - bakery.io (confidence: 0.800)\n",
            "  - bakery.info (confidence: 0.800)\n",
            "\n",
            "law firm (short)\n",
            "LLM Score: 5.33/10, Model Confidence: 0.300\n",
            "Domains with confidence scores:\n",
            "  - #lawfirm.io\n",
            "        #lawyer.co (confidence: 0.300)\n",
            "  - #lawfirm.io (confidence: 0.300)\n",
            "  - legalservices.co (confidence: 0.300)\n",
            "\n",
            "a comprehensive digital marketing agency that specializes in social media management, search engine optimization, content creation, and brand development for small to medium-sized businesses across various industries (long)\n",
            "LLM Score: 7.00/10, Model Confidence: 0.300\n",
            "Domains with confidence scores:\n",
            "  - socialmarketing.co (confidence: 0.300)\n",
            "  - custombranding.io (confidence: 0.300)\n",
            "  - searchmarketing.org (confidence: 0.300)\n",
            "\n",
            "quantum computing research laboratory (technical)\n",
            "LLM Score: 6.87/10, Model Confidence: 0.339\n",
            "Domains with confidence scores:\n",
            "  - quantum-labs.cc (confidence: 0.440)\n",
            "  - quantum-instruments.net (confidence: 0.368)\n",
            "  - quantumcomputing.io (confidence: 0.210)\n",
            "\n",
            "blockchain cryptocurrency exchange platform (technical)\n",
            "LLM Score: 6.73/10, Model Confidence: 0.530\n",
            "Domains with confidence scores:\n",
            "  - blockchain-exchange.net (confidence: 0.568)\n",
            "  - cryptocurrency.net (confidence: 0.550)\n",
            "  - cryptocurrency-exchange.net (confidence: 0.472)\n",
            "\n",
            "pet psychic consultation services (unusual)\n",
            "LLM Score: 5.53/10, Model Confidence: 0.369\n",
            "Domains with confidence scores:\n",
            "  - #psychic-pets.co (confidence: 0.440)\n",
            "  - pet-spirituality.net (confidence: 0.368)\n",
            "  - #petpsychic.co (confidence: 0.300)\n",
            "\n",
            "medieval armor manufacturing workshop (unusual)\n",
            "LLM Score: 6.33/10, Model Confidence: 0.300\n",
            "Domains with confidence scores:\n",
            "  - medievalarmor.info (confidence: 0.300)\n",
            "  - medievalarmor.org (confidence: 0.300)\n",
            "  - medievalarmor.net (confidence: 0.300)\n",
            "\n",
            "french bistro café restaurant (multilingual)\n",
            "LLM Score: 6.00/10, Model Confidence: 0.616\n",
            "Domains with confidence scores:\n",
            "  - - french-bistro.fr #website for french bistro café\n",
            "        - french-cafe.net #website for french café restaurant (confidence: 0.640)\n",
            "  - ​french-bistro.co (confidence: 0.640)\n",
            "  - french-restaurant.net (confidence: 0.568)\n",
            "\n",
            "german bakery traditional bretzel (multilingual)\n",
            "LLM Score: 5.80/10, Model Confidence: 0.483\n",
            "Domains with confidence scores:\n",
            "  - traditional-bretzel.net (confidence: 0.568)\n",
            "  - german-bread.club (confidence: 0.440)\n",
            "  - bretzel-roll.co (confidence: 0.440)\n",
            "\n",
            "innovative approach to problems (ambiguous)\n",
            "LLM Score: 3.87/10, Model Confidence: 0.464\n",
            "Domains with confidence scores:\n",
            "  - #innovative-problems.com (confidence: 0.568)\n",
            "  - problems-solved.net (confidence: 0.440)\n",
            "  - 123-problems.io (confidence: 0.385)\n"
          ]
        },
        {
          "data": {
            "image/png": "[encoded data removed]",
            "text/plain": [
              "<Figure size 1000x600 with 1 Axes>"
            ]
          },
          "metadata": {},
          "output_type": "display_data"
        }
      ],
      "source": [
        "result_3 = run_test(\"tinyllama_v3\")\n",
        "result_3.to_csv(\"evaluation_result_3.csv\",index=False)\n",
        "\n",
        "create_plot(result_3)"
      ]
    },
    {
      "cell_type": "code",
      "execution_count": null,
      "metadata": {
        "collapsed": false,
        "scrolled": true
      },
      "outputs": [],
      "source": []
    },
    {
      "cell_type": "markdown",
      "id": "fde1d5ff",
      "metadata": {
        "collapsed": false,
        "scrolled": true
      },
      "source": [
        "#### Generate response with the best model"
      ]
    },
    {
      "cell_type": "code",
      "execution_count": 32,
      "metadata": {
        "collapsed": false,
        "scrolled": true
      },
      "outputs": [],
      "source": [
        "\n",
        "def domain_recommendation(desc: str, generator: DomainNameGenerator):\n",
        "\n",
        "    safety_filter = SafetyFilter()\n",
        "\n",
        "\n",
        "    safety_result = safety_filter.is_safe(desc)\n",
        "                \n",
        "    if not safety_result['is_safe']:\n",
        "        result = {\n",
        "                        'description': desc,\n",
        "                        'status': 'blocked',\n",
        "                        'reason': safety_result['reason'],\n",
        "                        'score': 0\n",
        "                    }\n",
        "    else:\n",
        "        result  = generator.generate_domains(desc)\n",
        "\n",
        "    return result"
      ]
    },
    {
      "cell_type": "code",
      "execution_count": 35,
      "metadata": {
        "collapsed": false,
        "scrolled": true
      },
      "outputs": [
        {
          "name": "stdout",
          "output_type": "stream",
          "text": [
            "Loading model...\n",
            "Model loaded!\n",
            "[('french-data.net', 0.329), ('financialdata.org', 0.3), ('paristech.fr', 0.3)]\n"
          ]
        }
      ],
      "source": [
        "desc = \"AI Tech startup for financial data based in paris\"\n",
        "\n",
        "generator = DomainNameGenerator(\"TinyLlama/TinyLlama-1.1B-Chat-v1.0\", \"tinyllama_v3\")\n",
        "\n",
        "response = domain_recommendation(desc,generator)\n",
        "\n",
        "print(response)"
      ]
    },
    {
      "cell_type": "code",
      "execution_count": null,
      "metadata": {
        "collapsed": false,
        "scrolled": true
      },
      "outputs": [],
      "source": []
    }
  ],
  "metadata": {
    "kernelspec": {
      "display_name": "Python",
      "language": "python",
      "name": "python3"
    },
    "language_info": {
      "codemirror_mode": {
        "name": "ipython",
        "version": 3
      },
      "file_extension": ".py",
      "mimetype": "text/x-python",
      "name": "python",
      "nbconvert_exporter": "python",
      "pygments_lexer": "ipython3"
    }
  },
  "nbformat": 4,
  "nbformat_minor": 5
}
